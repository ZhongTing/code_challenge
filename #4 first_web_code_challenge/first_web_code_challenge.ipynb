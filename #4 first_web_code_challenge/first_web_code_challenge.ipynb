{
 "cells": [
  {
   "cell_type": "markdown",
   "metadata": {
    "collapsed": true
   },
   "source": [
    "## 1 Fibonacci Number\n",
    "實作一個計算 [Fibonacci number](https://en.wikipedia.org/wiki/Fibonacci_number) 的 Function  \n",
    "例如： fib(6) 的結果為 8，請用 Recursive 及 非 Recursive 的方式各作一次。"
   ]
  },
  {
   "cell_type": "code",
   "execution_count": 1,
   "metadata": {},
   "outputs": [],
   "source": [
    "def fibonacci_recursive(n):\n",
    "    if n < 3:\n",
    "        return 1\n",
    "    else:\n",
    "        return fibonacci_recursive(n - 1) + fibonacci_recursive(n - 2)"
   ]
  },
  {
   "cell_type": "code",
   "execution_count": 2,
   "metadata": {},
   "outputs": [
    {
     "data": {
      "text/plain": [
       "8"
      ]
     },
     "execution_count": 2,
     "metadata": {},
     "output_type": "execute_result"
    }
   ],
   "source": [
    "fibonacci_recursive(6)"
   ]
  },
  {
   "cell_type": "code",
   "execution_count": 3,
   "metadata": {},
   "outputs": [],
   "source": [
    "def fibonacci_non_recursive(n):\n",
    "    queue = [n]\n",
    "    value = 0\n",
    "    while queue:\n",
    "        i = queue.pop()\n",
    "        if i >= 3:\n",
    "            queue.append(i - 1)\n",
    "            queue.append(i - 2)\n",
    "        else:\n",
    "            value += 1\n",
    "    return value"
   ]
  },
  {
   "cell_type": "code",
   "execution_count": 4,
   "metadata": {},
   "outputs": [
    {
     "data": {
      "text/plain": [
       "8"
      ]
     },
     "execution_count": 4,
     "metadata": {},
     "output_type": "execute_result"
    }
   ],
   "source": [
    "fibonacci_non_recursive(6)"
   ]
  },
  {
   "cell_type": "markdown",
   "metadata": {},
   "source": [
    "列出數列比較兩個版本"
   ]
  },
  {
   "cell_type": "code",
   "execution_count": 5,
   "metadata": {},
   "outputs": [
    {
     "name": "stdout",
     "output_type": "stream",
     "text": [
      "1 1\n",
      "1 1\n",
      "2 2\n",
      "3 3\n",
      "5 5\n",
      "8 8\n",
      "13 13\n",
      "21 21\n",
      "34 34\n"
     ]
    }
   ],
   "source": [
    "for i in range(1, 10):\n",
    "    print(fibonacci_recursive(i), fibonacci_non_recursive(i))"
   ]
  },
  {
   "cell_type": "markdown",
   "metadata": {},
   "source": [
    "## 4 簡單的網路爬蟲\n",
    "寫一個簡單的網路爬蟲程式, 到google 搜尋 nlp, parsing出每一筆結果的標題及以及url."
   ]
  },
  {
   "cell_type": "markdown",
   "metadata": {},
   "source": [
    "這裡會用到 urllib跟beautifulsoup這兩個lib"
   ]
  },
  {
   "cell_type": "code",
   "execution_count": 6,
   "metadata": {},
   "outputs": [],
   "source": [
    "import urllib.request\n",
    "from bs4 import BeautifulSoup"
   ]
  },
  {
   "cell_type": "markdown",
   "metadata": {},
   "source": [
    "hearder這邊沒設user-agent會403，開瀏覽器複製他的user-agent就可以了\n"
   ]
  },
  {
   "cell_type": "code",
   "execution_count": 7,
   "metadata": {},
   "outputs": [],
   "source": [
    "url = \"https://www.google.com.tw/search?q=nlp\"\n",
    "headers = {\n",
    "    \"User-Agent\": \"Mozilla/5.0 (X11; Linux x86_64) AppleWebKit/537.36 (KHTML, like Gecko) \"\n",
    "                  \"Chrome/42.0.2311.90 Safari/537.36 \"\n",
    "}\n",
    "request = urllib.request.Request(url, headers=headers)\n",
    "request = urllib.request.urlopen(request)\n",
    "encoding = request.headers.get_content_charset()\n",
    "html = request.read().decode(encoding)"
   ]
  },
  {
   "cell_type": "markdown",
   "metadata": {},
   "source": [
    "html結構不會變動，所以解析的部分也還蠻簡單的"
   ]
  },
  {
   "cell_type": "code",
   "execution_count": 8,
   "metadata": {},
   "outputs": [],
   "source": [
    "bs = BeautifulSoup(html, \"html5lib\")\n",
    "search_result = []\n",
    "for soup in bs.select(\"h3.r > a\"):\n",
    "    search_result.append({\n",
    "        \"title\": soup.get_text(),\n",
    "        \"url\": soup.attrs[\"href\"]\n",
    "    })"
   ]
  },
  {
   "cell_type": "code",
   "execution_count": 9,
   "metadata": {},
   "outputs": [
    {
     "data": {
      "text/plain": [
       "[{'title': '神經語言規劃- 维基百科，自由的百科全书',\n",
       "  'url': 'https://zh.wikipedia.org/zh-tw/%E7%A5%9E%E7%B6%93%E8%AA%9E%E8%A8%80%E8%A6%8F%E5%8A%83'},\n",
       " {'title': 'NLP - 维基百科，自由的百科全书', 'url': 'https://zh.wikipedia.org/zh-tw/NLP'},\n",
       " {'title': 'What Is NLP - NLP Training (NLP課程) | Hypnotherapy(催眠治療 ...',\n",
       "  'url': 'http://www.life-enrich.com/online-learning/what-is-nlp.html'},\n",
       " {'title': 'NLP到底是什麼？ @ 愛閱讀，就是我的Style :: 痞客邦PIXNET ::',\n",
       "  'url': 'http://shymau.pixnet.net/blog/post/6886836-nlp%E5%88%B0%E5%BA%95%E6%98%AF%E4%BB%80%E9%BA%BC%EF%BC%9F'},\n",
       " {'title': '博客來-NLP來自潛意識的語言力量：向大腦下指令，從此改寫你的人生！',\n",
       "  'url': 'http://www.books.com.tw/products/0010659270'},\n",
       " {'title': '認識NLP - 赫威思專業訓練中心',\n",
       "  'url': 'http://www.nlp-plus.com.tw/aboutnlp.html'},\n",
       " {'title': 'NLP小教室～Unit2：三分鐘學會催眠！ - YouTube',\n",
       "  'url': 'https://www.youtube.com/watch?v=Cy_2ySQBjjE'},\n",
       " {'title': 'NLP 要如何玩到出神入化呢？你該認識一下這位大師…… @ 林哲瑋的 ...',\n",
       "  'url': 'http://kobetmac24.pixnet.net/blog/post/42840656-nlp-%E8%A6%81%E5%A6%82%E4%BD%95%E7%8E%A9%E5%88%B0%E5%87%BA%E7%A5%9E%E5%85%A5%E5%8C%96%E5%91%A2%EF%BC%9F%E4%BD%A0%E8%A9%B2%E8%AA%8D%E8%AD%98%E4%B8%80%E4%B8%8B%E9%80%99'},\n",
       " {'title': '江健勇TED 演講毒辣NLP 招式大剖析！！！ @ 林哲瑋的《 臨在世界 ...',\n",
       "  'url': 'http://kobetmac24.pixnet.net/blog/post/42778487-%E6%B1%9F%E5%81%A5%E5%8B%87-ted-%E6%BC%94%E8%AC%9B%E6%AF%92%E8%BE%A3-nlp-%E6%8B%9B%E5%BC%8F%E5%A4%A7%E5%89%96%E6%9E%90%EF%BC%81%EF%BC%81%EF%BC%81'},\n",
       " {'title': '89.什麼是NLP - 哈佛心靈成長協會Harvard Spiritual',\n",
       "  'url': 'http://www.harvardspiritual.com/category4/201509/2015-03-07-09-12-108'}]"
      ]
     },
     "execution_count": 9,
     "metadata": {},
     "output_type": "execute_result"
    }
   ],
   "source": [
    "search_result"
   ]
  },
  {
   "cell_type": "markdown",
   "metadata": {},
   "source": [
    "## 5 Inverted index\n",
    "請解釋什麼是Inverted index, 並描述在什麼情況下使用, 以下三個文件的inverted index會長什麼樣子.  \n",
    "doc 1 : A goal of a search engine implementation is to optimize the speed of the query  \n",
    "doc 2 : Apache Lucene is a full-featured text search engine library written in Java   \n",
    "doc 3 : sorting and searching algorithms have been characterized by the number of comparison operations  "
   ]
  },
  {
   "cell_type": "markdown",
   "metadata": {},
   "source": [
    "Ans:\n",
    "inverted index常用在搜尋引擎上(以詞搜尋文章)，inverted index(反向索引)對應的是正向索引。正向索引是以文件為index去紀錄文件有哪些詞；反向索引則是以詞為index，紀錄詞在哪些文件裡面。正向索引的搜尋效能慢，但是建立或更新索引時速度快。反向索引則相反。"
   ]
  },
  {
   "cell_type": "code",
   "execution_count": 10,
   "metadata": {},
   "outputs": [],
   "source": [
    "docs = [{\n",
    "    \"id\": 1,\n",
    "    \"content\": \"A goal of a search engine implementation is to optimize the speed of the query\"\n",
    "}, {\n",
    "    \"id\": 2,\n",
    "    \"content\": \"Apache Lucene is a full-featured text search engine library written in Java \"\n",
    "}, {\n",
    "    \"id\": 3,\n",
    "    \"content\": \"sorting and searching algorithms have been characterized by the number of comparison operations\"\n",
    "}]"
   ]
  },
  {
   "cell_type": "code",
   "execution_count": 11,
   "metadata": {},
   "outputs": [],
   "source": [
    "inverted_index = {}\n",
    "for doc in docs:\n",
    "    terms = doc[\"content\"].split()\n",
    "    for term in terms:\n",
    "        if term not in inverted_index:\n",
    "            inverted_index[term] = []\n",
    "        inverted_index[term].append(doc[\"id\"])"
   ]
  },
  {
   "cell_type": "code",
   "execution_count": 12,
   "metadata": {
    "scrolled": false
   },
   "outputs": [
    {
     "data": {
      "text/plain": [
       "{'A': [1],\n",
       " 'Apache': [2],\n",
       " 'Java': [2],\n",
       " 'Lucene': [2],\n",
       " 'a': [1, 2],\n",
       " 'algorithms': [3],\n",
       " 'and': [3],\n",
       " 'been': [3],\n",
       " 'by': [3],\n",
       " 'characterized': [3],\n",
       " 'comparison': [3],\n",
       " 'engine': [1, 2],\n",
       " 'full-featured': [2],\n",
       " 'goal': [1],\n",
       " 'have': [3],\n",
       " 'implementation': [1],\n",
       " 'in': [2],\n",
       " 'is': [1, 2],\n",
       " 'library': [2],\n",
       " 'number': [3],\n",
       " 'of': [1, 1, 3],\n",
       " 'operations': [3],\n",
       " 'optimize': [1],\n",
       " 'query': [1],\n",
       " 'search': [1, 2],\n",
       " 'searching': [3],\n",
       " 'sorting': [3],\n",
       " 'speed': [1],\n",
       " 'text': [2],\n",
       " 'the': [1, 1, 3],\n",
       " 'to': [1],\n",
       " 'written': [2]}"
      ]
     },
     "execution_count": 12,
     "metadata": {},
     "output_type": "execute_result"
    }
   ],
   "source": [
    "inverted_index"
   ]
  }
 ],
 "metadata": {
  "kernelspec": {
   "display_name": "Python 3",
   "language": "python",
   "name": "python3"
  },
  "language_info": {
   "codemirror_mode": {
    "name": "ipython",
    "version": 3
   },
   "file_extension": ".py",
   "mimetype": "text/x-python",
   "name": "python",
   "nbconvert_exporter": "python",
   "pygments_lexer": "ipython3",
   "version": "3.6.3"
  }
 },
 "nbformat": 4,
 "nbformat_minor": 1
}
